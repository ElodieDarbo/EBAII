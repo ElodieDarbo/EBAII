{
 "cells": [
  {
   "cell_type": "markdown",
   "metadata": {},
   "source": [
    "# TP croisement de données\n",
    "\n",
    "## Préparation de l'environnement de travail\n",
    "\n",
    "Dans votre dossier de projet, création d'un répertoire spécifique pour ce TP de croisement de données:"
   ]
  },
  {
   "cell_type": "code",
   "execution_count": 1,
   "metadata": {},
   "outputs": [
    {
     "name": "stdout",
     "output_type": "stream",
     "text": [
      "all_genes.gff\t\t\t\t\t lienData\n",
      "differentially_expressed_genes.gff3\t\t solution.ipynb\n",
      "differentially_expressed_genes_h3k4me3_k562.gff  solution.md\n",
      "differentially_expressed_genes_prom2k_CTN.gff3\t tp_croisement\n",
      "differentially_expressed_genes_prom2k.gff3\t Untitled1.ipynb\n",
      "differentially_expressed_genes_prom2k_snps.gff3  Untitled.ipynb\n"
     ]
    }
   ],
   "source": [
    "!mkdir -p tp_croisement\n",
    "!ls\n",
    "!cd tp_croisement"
   ]
  },
  {
   "cell_type": "markdown",
   "metadata": {},
   "source": [
    "Chargement du programme bedtools pour le cluster:"
   ]
  },
  {
   "cell_type": "code",
   "execution_count": 2,
   "metadata": {},
   "outputs": [
    {
     "name": "stdout",
     "output_type": "stream",
     "text": [
      "/bin/bash: module: command not found\n",
      "/bin/bash: module: command not found\n"
     ]
    }
   ],
   "source": [
    "!module avail bedtools\n",
    "!module load bedtools/2.27.1"
   ]
  },
  {
   "cell_type": "markdown",
   "metadata": {},
   "source": [
    "Astuce pour racourcir l'écriture des commandes en utilisant la commande bash \"ln\":\n",
    "\n",
    "création d'un dossier (lienData) qui servira de lien vers le repertoire /shared/projects/ebaii2020/atelier_croisement/data/"
   ]
  },
  {
   "cell_type": "code",
   "execution_count": null,
   "metadata": {},
   "outputs": [],
   "source": [
    "!ln -sf /shared/projects/ebaii2020/atelier_croisement/data/ lienData\n",
    "!ls -l"
   ]
  },
  {
   "cell_type": "markdown",
   "metadata": {},
   "source": [
    "\n",
    "## Question 1\n",
    "\n",
    "### pour les gènes différentiellement exprimés\n",
    "\n",
    "Extraction des positions des gènes différentiellement exprimés:"
   ]
  },
  {
   "cell_type": "code",
   "execution_count": null,
   "metadata": {},
   "outputs": [
    {
     "name": "stdout",
     "output_type": "stream",
     "text": [
      "srun: Job 13406067 step creation temporarily disabled, retrying\n",
      "srun: Job 13406067 step creation temporarily disabled, retrying\n"
     ]
    }
   ],
   "source": [
    "!srun grep -f lienData/differentially_expressed_genes.txt /shared/bank/homo_sapiens/GRCh38/gff3/Homo_sapiens.GRCh38.94.gff3 | srun awk '($3 == \"gene\")' > differentially_expressed_genes.gff\n",
    "!ls"
   ]
  },
  {
   "cell_type": "markdown",
   "metadata": {},
   "source": [
    "Comparaison (par les positions sur le génome) des gènes différentiellement exprimés avec les régions des sites de fixation de H3K4me3:"
   ]
  },
  {
   "cell_type": "code",
   "execution_count": null,
   "metadata": {},
   "outputs": [],
   "source": [
    "!srun bedtools intersect -a differentially_expressed_genes.gff -b lienData/h3k4me3_k562.bed -u > differentially_expressed_genes_h3k4me3_k562.gff\n",
    "!ls"
   ]
  },
  {
   "cell_type": "markdown",
   "metadata": {},
   "source": [
    "\n",
    "### pour tous les gènes (background)\n",
    "\n",
    "Extraction des positions de tous les gènes:"
   ]
  },
  {
   "cell_type": "code",
   "execution_count": null,
   "metadata": {},
   "outputs": [],
   "source": [
    "!srun awk '($3 == \"gene\")' /shared/bank/homo_sapiens/GRCh38/gff3/Homo_sapiens.GRCh38.94.gff3 > all_genes.gff"
   ]
  },
  {
   "cell_type": "markdown",
   "metadata": {},
   "source": [
    "Sélection des gènes non différentiellement exprimés:"
   ]
  },
  {
   "cell_type": "code",
   "execution_count": null,
   "metadata": {},
   "outputs": [],
   "source": [
    "!srun bedtools intersect -v -a all_genes.gff -b differentially_expressed_genes.gff > not_differentially_expressed_genes.gff"
   ]
  },
  {
   "cell_type": "markdown",
   "metadata": {},
   "source": [
    "Comparaison (par les positions sur le génome) des gènes non différentiellement exprimés avec les régions des sites de fixation de H3K4me3:"
   ]
  },
  {
   "cell_type": "code",
   "execution_count": null,
   "metadata": {},
   "outputs": [],
   "source": [
    "!srun bedtools intersect -a not_differentially_expressed_genes.gff -b lienData/h3k4me3_k562.bed -u > not_differentially_expressed_genes_h3k4me3_k562.gff"
   ]
  },
  {
   "cell_type": "markdown",
   "metadata": {},
   "source": [
    "Résultat des comparaisons (en terme de nombre de lignes des fichiers résultats):"
   ]
  },
  {
   "cell_type": "code",
   "execution_count": null,
   "metadata": {},
   "outputs": [],
   "source": [
    "!wc -l differentially_expressed_genes.gff differentially_expressed_genes_h3k4me3_k562.gff not_differentially_expressed_genes.gff not_differentially_expressed_genes_h3k4me3_k562.gff"
   ]
  },
  {
   "cell_type": "markdown",
   "metadata": {},
   "source": [
    "\n",
    "## Question 2\n",
    "\n",
    "\n",
    "Extraction des régions promotrices des gènes différentiellement exprimés:"
   ]
  },
  {
   "cell_type": "code",
   "execution_count": null,
   "metadata": {},
   "outputs": [],
   "source": [
    "!srun bedtools flank -i differentially_expressed_genes.gff -l 2000 -r 0 -g lienData/chrs.len -s > differentially_expressed_genes_prom2k.gff"
   ]
  },
  {
   "cell_type": "markdown",
   "metadata": {},
   "source": [
    "Récupération des variants présents dans les régions promotrices:"
   ]
  },
  {
   "cell_type": "code",
   "execution_count": null,
   "metadata": {},
   "outputs": [],
   "source": [
    "!srun bedtools intersect -a lienData/common_all_20180418_div.vcf -b differentially_expressed_genes_prom2k.gff > differentially_expressed_genes_snps_in_prom2k.vcf"
   ]
  },
  {
   "cell_type": "markdown",
   "metadata": {},
   "source": [
    "Dénombrement des variants :"
   ]
  },
  {
   "cell_type": "code",
   "execution_count": null,
   "metadata": {},
   "outputs": [],
   "source": [
    "!wc -l differentially_expressed_genes_snps_in_prom2k.vcf"
   ]
  },
  {
   "cell_type": "markdown",
   "metadata": {},
   "source": [
    "Dénombrement des variants pour chaque promoteur des gènes différentiellement exprimés (option -c):"
   ]
  },
  {
   "cell_type": "code",
   "execution_count": null,
   "metadata": {},
   "outputs": [],
   "source": [
    "!srun bedtools intersect -a differentially_expressed_genes_prom2k.gff3 -b lienData/common_all_20180418_div.vcf -c > differentially_expressed_genes_prom2k_n_snps.gff"
   ]
  },
  {
   "cell_type": "markdown",
   "metadata": {},
   "source": [
    "Observation du résultat (aller à la dernière colonne):"
   ]
  },
  {
   "cell_type": "code",
   "execution_count": null,
   "metadata": {},
   "outputs": [],
   "source": [
    "!less -S differentially_expressed_genes_prom2k_n_snps.gff"
   ]
  },
  {
   "cell_type": "markdown",
   "metadata": {},
   "source": [
    "Contrôle (calcul de la somme de cette dernière colonne):"
   ]
  },
  {
   "cell_type": "code",
   "execution_count": null,
   "metadata": {},
   "outputs": [],
   "source": [
    "!srun awk -F '\\t' 'BEGIN{s=0}{s+=$NF}END{print s}' differentially_expressed_genes_prom2k_n_snps.gff"
   ]
  },
  {
   "cell_type": "markdown",
   "metadata": {},
   "source": [
    "Le compte est bon !\n",
    "\n",
    "## Question 3\n",
    "\n",
    "Croisement des régions des sites de fixation de H3K4me3 avec la liste des variants:"
   ]
  },
  {
   "cell_type": "code",
   "execution_count": null,
   "metadata": {},
   "outputs": [],
   "source": [
    "!srun bedtools intersect -a lienData/h3k4me3_k562.bed -b lienData/common_all_20180418_div.vcf -u > h3k4me3_k562_snps.bed"
   ]
  },
  {
   "cell_type": "markdown",
   "metadata": {},
   "source": [
    "Réorganisation des résultats (sort) par chromosome (alphanumérique) puis par position (numérique):"
   ]
  },
  {
   "cell_type": "code",
   "execution_count": null,
   "metadata": {},
   "outputs": [],
   "source": [
    "!srun sort -k1,1 -k2,2n h3k4me3_k562_snps.bed > h3k4me3_k562_snps_sorted.bed"
   ]
  },
  {
   "cell_type": "markdown",
   "metadata": {},
   "source": [
    "Recherche des gènes différentiellement exprimés et à proximité des sites de fixation de H3K4me3 contenant un variant:"
   ]
  },
  {
   "cell_type": "code",
   "execution_count": null,
   "metadata": {},
   "outputs": [],
   "source": [
    "!srun bedtools closest -a h3k4me3_k562_snps_sorted.bed -b differentially_expressed_genes.gff > differentially_expressed_genes_closest_h3k4me3_k562_snps.bed"
   ]
  },
  {
   "cell_type": "markdown",
   "metadata": {},
   "source": [
    "Idem en retrignant à la région amont (upstrem) des gènes, en ajoutant des filtres (awk) pour contraindre la région à 2Kb (et en focalisant les résultats sur les gènes):"
   ]
  },
  {
   "cell_type": "code",
   "execution_count": null,
   "metadata": {},
   "outputs": [],
   "source": [
    "!srun bash -c \"bedtools closest -a h3k4me3_k562_snps_sorted.bed -b differentially_expressed_genes.gff -id | awk -F \"\\t\" '($14 <= 0 && $14 >= -2000)' | cut -f 5- | cut -f -9 | sort -u > differentially_expressed_genes_closest_h3k4me3_k562_snps_selected.bed\""
   ]
  }
 ],
 "metadata": {
  "kernelspec": {
   "display_name": "Python 3.7",
   "language": "python",
   "name": "python3"
  },
  "language_info": {
   "codemirror_mode": {
    "name": "ipython",
    "version": 3
   },
   "file_extension": ".py",
   "mimetype": "text/x-python",
   "name": "python",
   "nbconvert_exporter": "python",
   "pygments_lexer": "ipython3",
   "version": "3.7.3"
  }
 },
 "nbformat": 4,
 "nbformat_minor": 4
}
